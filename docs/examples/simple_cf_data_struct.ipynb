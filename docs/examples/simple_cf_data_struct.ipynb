{
 "cells": [
  {
   "cell_type": "markdown",
   "metadata": {},
   "source": [
    "# Create Simple CF compatible data structure\n",
    "\n",
    "This example shows the basic usage of `cf-data-struct` by creating a basic Climate & Forecast compatible data structure. "
   ]
  },
  {
   "cell_type": "code",
   "execution_count": 3,
   "metadata": {},
   "outputs": [],
   "source": [
    "import numpy as np\n",
    "from cf_data_struct import TrajectoryCFStruct, CFVariable\n",
    "from cf_data_struct.datamodels import TimeVarAttrs, BasicVarAttrs, BasicCFGlobalAttributes"
   ]
  },
  {
   "cell_type": "markdown",
   "metadata": {},
   "source": [
    "## Create a dimension\n",
    "\n",
    "For this example the dimension is time."
   ]
  },
  {
   "cell_type": "code",
   "execution_count": null,
   "metadata": {},
   "outputs": [],
   "source": []
  },
  {
   "cell_type": "code",
   "execution_count": null,
   "metadata": {},
   "outputs": [],
   "source": []
  },
  {
   "cell_type": "code",
   "execution_count": 4,
   "metadata": {},
   "outputs": [
    {
     "name": "stdout",
     "output_type": "stream",
     "text": [
      "CFVariable - time:\n",
      "var_id             : tm\n",
      "time_dim_unlimited : False\n",
      "dimensions         : ['time'] [(61,)]\n",
      "attributes         : long_name='time' units='seconds since 1970-01-01' calendar='gregorian'\n"
     ]
    }
   ],
   "source": [
    "time = CFVariable(\n",
    "    name=\"time\",\n",
    "    value=np.linspace(0, 60, 61),\n",
    "    dims=(\"time\",),\n",
    "    attributes=TimeVarAttrs(\n",
    "        long_name=\"time\", \n",
    "        units=\"seconds since 1970-01-01\",\n",
    "        calendar=\"gregorian\"\n",
    "    )\n",
    ")\n",
    "print(time)"
   ]
  },
  {
   "cell_type": "markdown",
   "metadata": {},
   "source": [
    "## Create a variable\n",
    "\n",
    "The creation of variables is done in the same way:"
   ]
  },
  {
   "cell_type": "code",
   "execution_count": 5,
   "metadata": {},
   "outputs": [
    {
     "name": "stdout",
     "output_type": "stream",
     "text": [
      "CFVariable - sea_ice_thickness:\n",
      "var_id             : sit\n",
      "time_dim_unlimited : False\n",
      "dimensions         : ['time'] [(61,)]\n",
      "attributes         : long_name='sea_ice_thickness' standard_name='sea_ice_thickness' scale_factor=None add_offset=None actual_range=None missing_value=None comment=None units='m' ancillary_variables=None coverage_content_type=None valid_min=None valid_max=None\n"
     ]
    }
   ],
   "source": [
    "sit = CFVariable(\n",
    "    name=\"sea_ice_thickness\",\n",
    "    value=np.full(time.value.shape, 1.0),\n",
    "    dims=(\"time\",),\n",
    "    attributes=BasicVarAttrs(\n",
    "        long_name=\"sea_ice_thickness\", \n",
    "        standard_name=\"sea_ice_thickness\",\n",
    "        units=\"m\"\n",
    "    )\n",
    ")\n",
    "print(sit)"
   ]
  },
  {
   "cell_type": "markdown",
   "metadata": {},
   "source": [
    "## Create a data structure"
   ]
  },
  {
   "cell_type": "code",
   "execution_count": 6,
   "metadata": {},
   "outputs": [],
   "source": [
    "data = TrajectoryCFStruct(\n",
    "    dims=time, \n",
    "    variables=sit,\n",
    "    attributes=BasicCFGlobalAttributes()\n",
    ")\n"
   ]
  }
 ],
 "metadata": {
  "kernelspec": {
   "display_name": "py3p11_cf_data_struct",
   "language": "python",
   "name": "python3"
  },
  "language_info": {
   "codemirror_mode": {
    "name": "ipython",
    "version": 3
   },
   "file_extension": ".py",
   "mimetype": "text/x-python",
   "name": "python",
   "nbconvert_exporter": "python",
   "pygments_lexer": "ipython3",
   "version": "3.11.8"
  }
 },
 "nbformat": 4,
 "nbformat_minor": 2
}
